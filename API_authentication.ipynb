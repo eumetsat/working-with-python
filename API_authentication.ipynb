{
 "cells": [
  {
   "cell_type": "markdown",
   "id": "a4b28af8-3a64-4985-b7b0-fada757bbdd0",
   "metadata": {},
   "source": [
    "<img src='https://gitlab.eumetsat.int/eumetlab/oceans/ocean-training/tools/frameworks/-/raw/main/img/Standard_banner.png' align='right' width='100%'/>"
   ]
  },
  {
   "cell_type": "markdown",
   "id": "63091708-6f94-46cb-9d72-9df1d5a40564",
   "metadata": {},
   "source": [
    "<font color=\"#138D75\">**Copernicus Marine Training Service**</font> <br>\n",
    "**Copyright:** 2024 EUMETSAT <br>\n",
    "**License:** MIT <br>\n",
    "**Authors:** Ben Loveday (EUMETSAT/Innoflair UG), Hayley Evers-King (EUMETSAT)"
   ]
  },
  {
   "cell_type": "markdown",
   "id": "4b891916-ed9a-4ada-9d61-cc55df80c6a5",
   "metadata": {},
   "source": [
    "<div class=\"alert alert-block alert-success\">\n",
    "<h3>Working with Python</h3></div>\n",
    "<hr>"
   ]
  },
  {
   "cell_type": "markdown",
   "id": "2c32cd84-112e-495e-a003-87b93092c771",
   "metadata": {},
   "source": [
    "<div class=\"alert alert-block alert-warning\">\n",
    "    \n",
    "<b>PREREQUISITES </b>\n",
    "    \n",
    "This notebook has the following prerequisites:\n",
    "- **<a href=\"https://eoportal.eumetsat.int/\" target=\"_blank\">A EUMETSAT Earth Observation Portal account</a>** if you are using or plan to use the EUMETSAT Data Store and eumdac\n",
    "- **<a href=\"https://www.wekeo.eu/\" target=\"_blank\">A WEkEO account</a>** if you are using or plan to use the WEkEO HDA API.\n",
    "- **<a href=\"https://marine.copernicus.eu/\" target=\"_blank\">A CMEMS account</a>** if you are fetching data from the Copernicus Marine Service data store.\n",
    "\n",
    "\n",
    "There are no prerequisite notebooks for this module.\n",
    "</div>\n",
    "<hr>"
   ]
  },
  {
   "cell_type": "markdown",
   "id": "d06180b9-290c-4afb-b181-2540df0ca0dc",
   "metadata": {},
   "source": [
    "# API Authentication\n",
    "\n",
    "### Outline\n",
    "\n",
    "This notebook can be used to create the files necessary to automatically authenticate the **eumdac** client, for access to the EUMETSAT Data Store, and WEkEO, via the **HDA API**. It will also create the authentication files for the **Copernicus Marine Service** OpenDap client and set-up the authentication to the **Copernicus Climate** and **Atmospheric** Data Stores as required by the ThoMaS toolkit. The tool will work on a local system, or on the WEkEO JupyterHub.\n",
    "\n",
    "In order to run the code, you should click on the `> Kernel > Restart Kernel and Run All Cells` option on the top toolbar, which will prepare the widgets below. Once you have done this you can copy and paste the required credentials in the relevant boxes and click the \"Create file\" buttons to make the necessary file(s)."
   ]
  },
  {
   "cell_type": "code",
   "execution_count": 1,
   "id": "3a19d1b8-2f62-4af8-963a-83f216c25a4f",
   "metadata": {},
   "outputs": [],
   "source": [
    "from api_widgets import *"
   ]
  },
  {
   "cell_type": "markdown",
   "id": "79d98a16-f071-4074-83dc-e81eae806d57",
   "metadata": {},
   "source": [
    "<div class=\"alert alert-info\" role=\"alert\">\n",
    "\n",
    "## EUMETSAT Data Store (eumdac) & ThoMaS\n",
    "\n",
    "</div>\n",
    "\n",
    "If you would like to configure ***eumdac*** authentication to the EUMETSAT Data Store, please paste your consumer key and secret in the boxes below and click the *Create eumdac credentials file* button. You consumer key and secret can be found at https://api.eumetsat.int/api-key/. This step also supports Data Store authentication for the <a href=\"https://gitlab.eumetsat.int/eumetlab/oceans/ocean-science-studies/ThoMaS\" target=\"_blank\">**ThoMaS**</a> OLCI validation toolkit."
   ]
  },
  {
   "cell_type": "code",
   "execution_count": 2,
   "id": "7fede18a-07a7-41c9-a141-c38773cbb5a8",
   "metadata": {},
   "outputs": [
    {
     "data": {
      "application/vnd.jupyter.widget-view+json": {
       "model_id": "c33b307c338c4ac7887af86c4f37ecb3",
       "version_major": 2,
       "version_minor": 0
      },
      "text/plain": [
       "VBox(children=(Password(placeholder='Enter your consumer key'), Password(placeholder='Enter your consumer secr…"
      ]
     },
     "metadata": {},
     "output_type": "display_data"
    },
    {
     "data": {
      "application/vnd.jupyter.widget-view+json": {
       "model_id": "9c309c542b544a49802751e7d84972d4",
       "version_major": 2,
       "version_minor": 0
      },
      "text/plain": [
       "Output()"
      ]
     },
     "metadata": {},
     "output_type": "display_data"
    }
   ],
   "source": [
    "eumdac_widget()"
   ]
  },
  {
   "cell_type": "markdown",
   "id": "441d5fa7-1b1c-4bde-abd5-fa86e39403cf",
   "metadata": {},
   "source": [
    "<div class=\"alert alert-info\" role=\"alert\">\n",
    "\n",
    "## WEkEO HDA API\n",
    "\n",
    "</div>\n",
    "\n",
    "If you would like to configure ***WEkEO HDA*** authentication, please paste your WEkEO username and password in the boxes below and click the *Create HDA credentials file* button."
   ]
  },
  {
   "cell_type": "code",
   "execution_count": 3,
   "id": "0053e2f6-26a3-4241-bb3f-410923264d37",
   "metadata": {},
   "outputs": [
    {
     "data": {
      "application/vnd.jupyter.widget-view+json": {
       "model_id": "96e63d6f03134d879d19e0ae33e353fb",
       "version_major": 2,
       "version_minor": 0
      },
      "text/plain": [
       "VBox(children=(Text(value='', layout=Layout(height='40px', width='100'), placeholder='Enter your WEkEO usernam…"
      ]
     },
     "metadata": {},
     "output_type": "display_data"
    },
    {
     "data": {
      "application/vnd.jupyter.widget-view+json": {
       "model_id": "86ac0da414fa45cb8d48b78a331714b7",
       "version_major": 2,
       "version_minor": 0
      },
      "text/plain": [
       "Output()"
      ]
     },
     "metadata": {},
     "output_type": "display_data"
    }
   ],
   "source": [
    "hda_widget()"
   ]
  },
  {
   "cell_type": "markdown",
   "id": "ce9b5b08-6ddf-4975-9176-a7593fffddf7",
   "metadata": {},
   "source": [
    "<div class=\"alert alert-info\" role=\"alert\">\n",
    "\n",
    "## Copernicus Marine Data Store API\n",
    "\n",
    "</div>\n",
    "\n",
    "If you would like to configure ***CMEMS OPenDAP*** authentication, please paste your CMEMS username and password in the boxes below and click the *Create CMEMS API credentials file* button."
   ]
  },
  {
   "cell_type": "code",
   "execution_count": 4,
   "id": "dc620045-ac74-4290-9475-8e7bed593bcb",
   "metadata": {
    "tags": []
   },
   "outputs": [
    {
     "data": {
      "application/vnd.jupyter.widget-view+json": {
       "model_id": "e04ff263880b473e9b16b5b00b5738b6",
       "version_major": 2,
       "version_minor": 0
      },
      "text/plain": [
       "VBox(children=(Text(value='', layout=Layout(height='40px', width='100'), placeholder='Enter your CMEMS usernam…"
      ]
     },
     "metadata": {},
     "output_type": "display_data"
    },
    {
     "data": {
      "application/vnd.jupyter.widget-view+json": {
       "model_id": "180dfb7df8954cb3949c979b03bfb46b",
       "version_major": 2,
       "version_minor": 0
      },
      "text/plain": [
       "Output()"
      ]
     },
     "metadata": {},
     "output_type": "display_data"
    }
   ],
   "source": [
    "cmems_widget()"
   ]
  },
  {
   "cell_type": "markdown",
   "id": "bafeae03-5cfd-4a2c-a11b-a1002291f179",
   "metadata": {},
   "source": [
    "<div class=\"alert alert-info\" role=\"alert\">\n",
    "\n",
    "## Climate Data Store (CDS) and Atmosphere Data Store (ADS) API \n",
    "\n",
    "</div>\n",
    "\n",
    "If you would like to configure the <a href=\"https://gitlab.eumetsat.int/eumetlab/oceans/ocean-science-studies/ThoMaS\" target=\"_blank\">***ThoMaS***</a> OLCI validation toolkit for <a href=\"https://cds.climate.copernicus.eu/\" target=\"_blank\">***Climate Data Store (CDS)***</a> and <a href=\"https://ads.atmosphere.copernicus.eu/\" target=\"_blank\">***Atmospheric Data Store (ADS)***</a> authentication, please paste your CDS and ADS keys in the boxes below and click the *Create CDS/ADS credentials files* button. This widget can also be used to provide access to the Climate Data Store for OSI SAF sea ice products."
   ]
  },
  {
   "cell_type": "code",
   "execution_count": 5,
   "id": "6e427fb8-0bae-4467-904a-7807187391ec",
   "metadata": {
    "tags": []
   },
   "outputs": [
    {
     "data": {
      "application/vnd.jupyter.widget-view+json": {
       "model_id": "16a1b1c38bc545f8ba180332da7d3813",
       "version_major": 2,
       "version_minor": 0
      },
      "text/plain": [
       "VBox(children=(Text(value='', layout=Layout(height='40px', width='100'), placeholder='Enter your CDS API key')…"
      ]
     },
     "metadata": {},
     "output_type": "display_data"
    },
    {
     "data": {
      "application/vnd.jupyter.widget-view+json": {
       "model_id": "d09b9c58884e424293aaf1ab5f93a82e",
       "version_major": 2,
       "version_minor": 0
      },
      "text/plain": [
       "Output()"
      ]
     },
     "metadata": {},
     "output_type": "display_data"
    }
   ],
   "source": [
    "cds_ads_widget()"
   ]
  },
  {
   "cell_type": "markdown",
   "id": "de7e59bc-01bc-4ac4-af04-3ecb18e5dbaa",
   "metadata": {},
   "source": [
    "<div class=\"alert alert-info\" role=\"alert\">\n",
    "\n",
    "## NASA Earthdata \n",
    "\n",
    "</div>\n",
    "\n",
    "If you would like to configure the <a href=\"https://gitlab.eumetsat.int/eumetlab/oceans/ocean-science-studies/ThoMaS\" target=\"_blank\">***ThoMaS***</a> toolkit to use data from the NASA Earthdata portal, please paste your username and password in the boxes below and click the *Create CDS/ADS credentials file* button."
   ]
  },
  {
   "cell_type": "code",
   "execution_count": 6,
   "id": "bd478844-72f0-4bcb-91ca-78e076208537",
   "metadata": {},
   "outputs": [
    {
     "data": {
      "application/vnd.jupyter.widget-view+json": {
       "model_id": "b4b5b9ab9f6742d8b1c6b2279b39014b",
       "version_major": 2,
       "version_minor": 0
      },
      "text/plain": [
       "VBox(children=(Password(placeholder='Enter your username'), Password(placeholder='Enter your password'), Butto…"
      ]
     },
     "metadata": {},
     "output_type": "display_data"
    },
    {
     "data": {
      "application/vnd.jupyter.widget-view+json": {
       "model_id": "30ec823fb8404c2b98e8ff9f6a73d9d0",
       "version_major": 2,
       "version_minor": 0
      },
      "text/plain": [
       "Output()"
      ]
     },
     "metadata": {},
     "output_type": "display_data"
    }
   ],
   "source": [
    "earthdata_widget()"
   ]
  },
  {
   "cell_type": "markdown",
   "id": "43c0a6fd-5ac8-4c2c-9aa0-4f7218a66962",
   "metadata": {},
   "source": [
    "<hr>\n",
    "<a href=\"https://gitlab.eumetsat.int/eumetlab/ocean\" target=\"_blank\">View on GitLab</a> | <a href=\"https://training.eumetsat.int/\" target=\"_blank\">EUMETSAT Training</a> | <a href=mailto:ops@eumetsat.int target=\"_blank\">Contact helpdesk for support </a> | <a href=mailto:Copernicus.training@eumetsat.int target=\"_blank\">Contact our training team to collaborate on and reuse this material</a></span></p>"
   ]
  }
 ],
 "metadata": {
  "kernelspec": {
   "display_name": "Python 3 (ipykernel)",
   "language": "python",
   "name": "python3"
  },
  "language_info": {
   "codemirror_mode": {
    "name": "ipython",
    "version": 3
   },
   "file_extension": ".py",
   "mimetype": "text/x-python",
   "name": "python",
   "nbconvert_exporter": "python",
   "pygments_lexer": "ipython3",
   "version": "3.10.14"
  }
 },
 "nbformat": 4,
 "nbformat_minor": 5
}
