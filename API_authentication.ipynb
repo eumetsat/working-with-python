{
 "cells": [
  {
   "cell_type": "markdown",
   "id": "a4b28af8-3a64-4985-b7b0-fada757bbdd0",
   "metadata": {},
   "source": [
    "<img src='https://gitlab.eumetsat.int/eumetlab/oceans/ocean-training/tools/frameworks/-/raw/main/img/Standard_banner.png' align='right' width='100%'/>"
   ]
  },
  {
   "cell_type": "markdown",
   "id": "63091708-6f94-46cb-9d72-9df1d5a40564",
   "metadata": {},
   "source": [
    "<font color=\"#138D75\">**Copernicus Marine Training Service**</font> <br>\n",
    "**Copyright:** 2024 EUMETSAT <br>\n",
    "**License:** MIT <br>\n",
    "**Authors:** Ben Loveday (EUMETSAT/Innoflair UG), Hayley Evers-King (EUMETSAT)"
   ]
  },
  {
   "cell_type": "markdown",
   "id": "4b891916-ed9a-4ada-9d61-cc55df80c6a5",
   "metadata": {},
   "source": [
    "<div class=\"alert alert-block alert-success\">\n",
    "<h3>Working with Python</h3></div>\n",
    "<hr>"
   ]
  },
  {
   "cell_type": "markdown",
   "id": "2c32cd84-112e-495e-a003-87b93092c771",
   "metadata": {},
   "source": [
    "<div class=\"alert alert-block alert-warning\">\n",
    "    \n",
    "<b>PREREQUISITES </b>\n",
    "    \n",
    "This notebook has the following prerequisites:\n",
    "- **<a href=\"https://eoportal.eumetsat.int/\" target=\"_blank\">A EUMETSAT Earth Observation Portal account</a>** if you are using or plan to use the EUMETSAT Data Store and eumdac\n",
    "- **<a href=\"https://www.wekeo.eu/\" target=\"_blank\">A WEkEO account</a>** if you are using or plan to use the WEkEO HDA API.\n",
    "- **<a href=\"https://marine.copernicus.eu/\" target=\"_blank\">A CMEMS account</a>** if you are fetching data from the Copernicus Marine Service data store.\n",
    "\n",
    "\n",
    "There are no prerequisite notebooks for this module.\n",
    "</div>\n",
    "<hr>"
   ]
  },
  {
   "cell_type": "markdown",
   "id": "d06180b9-290c-4afb-b181-2540df0ca0dc",
   "metadata": {},
   "source": [
    "# API Authentication\n",
    "\n",
    "### Outline\n",
    "\n",
    "This notebook can be used to create the files necessary to automatically authenticate the **eumdac** client, for access to the EUMETSAT Data Store, and WEkEO, via the **HDA API**. It will also create the authentication files for the **Copernicus Marine Service** OpenDap client and set-up the authentication to the **Copernicus Climate** and **Atmospheric** Data Stores as required by the ThoMaS toolkit. The tool will work on a local system, or on the WEkEO JupyterHub.\n",
    "\n",
    "In order to run the code, you should click on the `> Kernel > Restart Kernel and Run All Cells` option on the top toolbar, which will prepare the widgets below. Once you have done this you can copy and paste the required credentials in the relevant boxes and click the \"Create file\" buttons to make the necessary file(s)."
   ]
  },
  {
   "cell_type": "code",
   "execution_count": 1,
   "id": "3a19d1b8-2f62-4af8-963a-83f216c25a4f",
   "metadata": {},
   "outputs": [],
   "source": [
    "from api_widgets import *"
   ]
  },
  {
   "cell_type": "markdown",
   "id": "79d98a16-f071-4074-83dc-e81eae806d57",
   "metadata": {},
   "source": [
    "<div class=\"alert alert-info\" role=\"alert\">\n",
    "\n",
    "## EUMDAC\n",
    "\n",
    "</div>\n",
    "\n",
    "If you would like to configure ***eumdac*** authentication, please paste your consumer key and secret in the boxes below and click the *Create eumdac file* button. You consumer key and secret can be found at https://api.eumetsat.int/api-key/. This step also supports authentication for the <a href=\"https://gitlab.eumetsat.int/eumetlab/oceans/ocean-science-studies/ThoMaS\" target=\"_blank\">**ThoMaS**</a> OLCI validation toolkit and Data Store access for all EUMETSAT Copernicus and mandatory mission products, including those from OSI SAF."
   ]
  },
  {
   "cell_type": "code",
   "execution_count": 2,
   "id": "7fede18a-07a7-41c9-a141-c38773cbb5a8",
   "metadata": {},
   "outputs": [
    {
     "data": {
      "application/vnd.jupyter.widget-view+json": {
       "model_id": "ea54bab7dcfa40aa88cbb6acebc22003",
       "version_major": 2,
       "version_minor": 0
      },
      "text/plain": [
       "VBox(children=(Password(placeholder='Enter your consumer key'), Password(placeholder='Enter your consumer secr…"
      ]
     },
     "metadata": {},
     "output_type": "display_data"
    },
    {
     "data": {
      "application/vnd.jupyter.widget-view+json": {
       "model_id": "b2067fa4d7604908b36963c890e646d0",
       "version_major": 2,
       "version_minor": 0
      },
      "text/plain": [
       "Output()"
      ]
     },
     "metadata": {},
     "output_type": "display_data"
    }
   ],
   "source": [
    "eumdac_widget()"
   ]
  },
  {
   "cell_type": "markdown",
   "id": "441d5fa7-1b1c-4bde-abd5-fa86e39403cf",
   "metadata": {},
   "source": [
    "<div class=\"alert alert-info\" role=\"alert\">\n",
    "\n",
    "## WEkEO HDA API\n",
    "\n",
    "</div>\n",
    "\n",
    "If you would like to configure ***WEkEO HDA*** authentication, please paste your WEkEO username and password in the boxes below and click the *Create HDA file* button."
   ]
  },
  {
   "cell_type": "code",
   "execution_count": 3,
   "id": "0053e2f6-26a3-4241-bb3f-410923264d37",
   "metadata": {},
   "outputs": [
    {
     "data": {
      "application/vnd.jupyter.widget-view+json": {
       "model_id": "6cb99c9997634799b3491ce0c6a2bb00",
       "version_major": 2,
       "version_minor": 0
      },
      "text/plain": [
       "VBox(children=(Text(value='', layout=Layout(height='40px', width='100'), placeholder='Enter your WEkEO usernam…"
      ]
     },
     "metadata": {},
     "output_type": "display_data"
    },
    {
     "data": {
      "application/vnd.jupyter.widget-view+json": {
       "model_id": "b3c7ae4ac4ec435b8b91184a4f3fe7a2",
       "version_major": 2,
       "version_minor": 0
      },
      "text/plain": [
       "Output()"
      ]
     },
     "metadata": {},
     "output_type": "display_data"
    }
   ],
   "source": [
    "hda_widget()"
   ]
  },
  {
   "cell_type": "markdown",
   "id": "ce9b5b08-6ddf-4975-9176-a7593fffddf7",
   "metadata": {},
   "source": [
    "<div class=\"alert alert-info\" role=\"alert\">\n",
    "\n",
    "## CMEMS OpenDap API\n",
    "\n",
    "</div>\n",
    "\n",
    "If you would like to configure ***CMEMS OPenDAP*** authentication, please paste your CMEMS username and password in the boxes below and click the *Create OpenDAP file* button."
   ]
  },
  {
   "cell_type": "code",
   "execution_count": 4,
   "id": "dc620045-ac74-4290-9475-8e7bed593bcb",
   "metadata": {
    "tags": []
   },
   "outputs": [
    {
     "data": {
      "application/vnd.jupyter.widget-view+json": {
       "model_id": "1e53d1d07ae44bd0aa1b8aa441a3a92d",
       "version_major": 2,
       "version_minor": 0
      },
      "text/plain": [
       "VBox(children=(Text(value='', layout=Layout(height='40px', width='100'), placeholder='Enter your CMEMS usernam…"
      ]
     },
     "metadata": {},
     "output_type": "display_data"
    },
    {
     "data": {
      "application/vnd.jupyter.widget-view+json": {
       "model_id": "605a79bd526d468b932ea15773e849c6",
       "version_major": 2,
       "version_minor": 0
      },
      "text/plain": [
       "Output()"
      ]
     },
     "metadata": {},
     "output_type": "display_data"
    }
   ],
   "source": [
    "cmems_widget()"
   ]
  },
  {
   "cell_type": "markdown",
   "id": "bafeae03-5cfd-4a2c-a11b-a1002291f179",
   "metadata": {},
   "source": [
    "<div class=\"alert alert-info\" role=\"alert\">\n",
    "\n",
    "## Climate Data Store (CDS) and Atmosphere Data Store (ADS) API \n",
    "\n",
    "</div>\n",
    "\n",
    "If you would like to configure the <a href=\"https://gitlab.eumetsat.int/eumetlab/oceans/ocean-science-studies/ThoMaS\" target=\"_blank\">***ThoMaS***</a> OLCI validation toolkit for <a href=\"https://cds.climate.copernicus.eu/\" target=\"_blank\">***Climate Data Store (CDS)***</a> and <a href=\"https://ads.atmosphere.copernicus.eu/\" target=\"_blank\">***Atmospheric Data Store (ADS)***</a> authentication, please paste your CDS and ADS keys in the boxes below and click the *Create CDS/ADS file* button. This widget can also be used to provide access to the Climate Data Store for OSI SAF sea ice products."
   ]
  },
  {
   "cell_type": "code",
   "execution_count": 5,
   "id": "6e427fb8-0bae-4467-904a-7807187391ec",
   "metadata": {
    "tags": []
   },
   "outputs": [
    {
     "data": {
      "application/vnd.jupyter.widget-view+json": {
       "model_id": "6d8701f819c542d0ae21c0b80fbbc5f2",
       "version_major": 2,
       "version_minor": 0
      },
      "text/plain": [
       "VBox(children=(HBox(children=(Text(value='', layout=Layout(height='40px', width='100'), placeholder='Enter you…"
      ]
     },
     "metadata": {},
     "output_type": "display_data"
    },
    {
     "data": {
      "application/vnd.jupyter.widget-view+json": {
       "model_id": "74c7b974667543629b3d16455be8b51d",
       "version_major": 2,
       "version_minor": 0
      },
      "text/plain": [
       "Output()"
      ]
     },
     "metadata": {},
     "output_type": "display_data"
    }
   ],
   "source": [
    "cds_ads_widget()"
   ]
  },
  {
   "cell_type": "markdown",
   "id": "de7e59bc-01bc-4ac4-af04-3ecb18e5dbaa",
   "metadata": {},
   "source": [
    "<div class=\"alert alert-info\" role=\"alert\">\n",
    "\n",
    "## OSI SAF sea ice  \n",
    "\n",
    "</div>\n",
    "\n",
    "If you would like to configure the <a href=\"https://gitlab.eumetsat.int/eumetlab/oceans/ocean-science-studies/ThoMaS\" target=\"_blank\">***ThoMaS***</a> OLCI validation toolkit for <a href=\"https://cds.climate.copernicus.eu/\" target=\"_blank\">***Climate Data Store (CDS)***</a> and <a href=\"https://ads.atmosphere.copernicus.eu/\" target=\"_blank\">***Atmospheric Data Store (ADS)***</a> authentication, please paste your CDS and ADS keys in the boxes below and click the *Create CDS/ADS file* button."
   ]
  },
  {
   "cell_type": "markdown",
   "id": "43c0a6fd-5ac8-4c2c-9aa0-4f7218a66962",
   "metadata": {},
   "source": [
    "<hr>\n",
    "<a href=\"https://gitlab.eumetsat.int/eumetlab/ocean\" target=\"_blank\">View on GitLab</a> | <a href=\"https://training.eumetsat.int/\" target=\"_blank\">EUMETSAT Training</a> | <a href=mailto:ops@eumetsat.int target=\"_blank\">Contact helpdesk for support </a> | <a href=mailto:Copernicus.training@eumetsat.int target=\"_blank\">Contact our training team to collaborate on and reuse this material</a></span></p>"
   ]
  }
 ],
 "metadata": {
  "kernelspec": {
   "display_name": "Python 3 (ipykernel)",
   "language": "python",
   "name": "python3"
  },
  "language_info": {
   "codemirror_mode": {
    "name": "ipython",
    "version": 3
   },
   "file_extension": ".py",
   "mimetype": "text/x-python",
   "name": "python",
   "nbconvert_exporter": "python",
   "pygments_lexer": "ipython3",
   "version": "3.11.5"
  }
 },
 "nbformat": 4,
 "nbformat_minor": 5
}
